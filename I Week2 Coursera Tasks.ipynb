{
 "cells": [
  {
   "cell_type": "markdown",
   "metadata": {},
   "source": [
    "# Задача 1: сравнение предложений"
   ]
  },
  {
   "cell_type": "markdown",
   "metadata": {},
   "source": [
    "Дан набор предложений, скопированных с Википедии. Каждое из них имеет \"кошачью тему\" в одном из трех смыслов:\n",
    "\n",
    "* кошки (животные)\n",
    "* UNIX-утилита cat для вывода содержимого файлов\n",
    "* версии операционной системы OS X, названные в честь семейства кошачьих\n",
    "\n",
    "Ваша задача — найти два предложения, которые ближе всего по смыслу к расположенному в самой первой строке. В качестве меры близости по смыслу мы будем использовать косинусное расстояние."
   ]
  },
  {
   "cell_type": "markdown",
   "metadata": {},
   "source": [
    "Выполните следующие шаги:\n",
    "    \n",
    "    1. Скачайте файл с предложениями (sentences.txt).\n",
    "    2. Каждая строка в файле соответствует одному предложению. Считайте их, приведите каждую к нижнему регистру с помощью строковой функции lower().\n",
    "    3. Произведите токенизацию, то есть разбиение текстов на слова. Для этого можно воспользоваться регулярным выражением, которое считает разделителем любой символ, не являющийся буквой: re.split('[^a-z]', t). Не забудьте удалить пустые слова после разделения.\n",
    "    4. Составьте список всех слов, встречающихся в предложениях. Сопоставьте каждому слову индекс от нуля до (d - 1), где d — число различных слов в предложениях. Для этого удобно воспользоваться структурой dict.\n",
    "    5. Создайте матрицу размера n * d, где n — число предложений. Заполните ее: элемент с индексом (i, j) в этой матрице должен быть равен количеству вхождений j-го слова в i-е предложение. У вас должна получиться матрица размера 22 * 254.\n",
    "    6. Найдите косинусное расстояние от предложения в самой первой строке (In comparison to dogs, cats have not undergone...) до всех остальных с помощью функции scipy.spatial.distance.cosine. Какие номера у двух предложений, ближайших к нему по этому расстоянию (строки нумеруются с нуля)? Эти два числа и будут ответами на задание. Само предложение (In comparison to dogs, cats have not undergone... ) имеет индекс 0.\n",
    "    7. Запишите полученные числа в файл, разделив пробелом. Обратите внимание, что файл должен состоять из одной строки, в конце которой не должно быть переноса. Пример файла с решением вы можете найти в конце задания (submission-1.txt).\n",
    "    8. Совпадают ли ближайшие два предложения по тематике с первым? Совпадают ли тематики у следующих по близости предложений?"
   ]
  },
  {
   "cell_type": "code",
   "execution_count": 29,
   "metadata": {},
   "outputs": [
    {
     "name": "stdout",
     "output_type": "stream",
     "text": [
      "{'in': 11, 'comparison': 1, 'to': 14, 'dogs': 1, 'cats': 4, 'have': 2, 'not': 1, 'undergone': 1, 'major': 2, 'changes': 2, 'during': 1, 'the': 20, 'domestication': 1, 'process': 2, 'as': 6, 'cat': 10, 'simply': 2, 'catenates': 1, 'streams': 1, 'of': 19, 'bytes': 2, 'it': 4, 'can': 3, 'be': 3, 'also': 2, 'used': 1, 'concatenate': 2, 'binary': 1, 'files': 1, 'where': 2, 'will': 2, 'just': 3, 'sequence': 2, 'a': 13, 'common': 1, 'interactive': 1, 'use': 2, 'for': 4, 'single': 1, 'file': 5, 'is': 7, 'output': 3, 'content': 2, 'standard': 1, 'hear': 1, 'sounds': 1, 'too': 2, 'faint': 1, 'or': 3, 'high': 1, 'frequency': 1, 'human': 2, 'ears': 1, 'such': 2, 'those': 1, 'made': 1, 'by': 3, 'mice': 1, 'and': 14, 'other': 2, 'small': 2, 'animals': 1, 'one': 4, 'people': 1, 'deliberately': 1, 'tamed': 1, 'artificial': 1, 'selection': 1, 'they': 1, 'were': 2, 'useful': 1, 'predators': 1, 'vermin': 1, 'domesticated': 1, 'its': 2, 'closest': 1, 'wild': 1, 'ancestor': 1, 'are': 2, 'both': 1, 'diploid': 1, 'organisms': 1, 'that': 2, 'possess': 1, 'chromosomes': 1, 'roughly': 1, 'genes': 1, 'domestic': 1, 'similar': 1, 'size': 1, 'members': 1, 'genus': 1, 'felis': 1, 'typically': 1, 'weighing': 1, 'between': 1, 'kg': 1, 'lb': 1, 'however': 1, 'if': 1, 'piped': 1, 'redirected': 2, 'unnecessary': 1, 'with': 2, 'named': 1, 'safer': 1, 'error': 1, 'concern': 1, 'wrong': 1, 'default': 1, 'redirection': 2, 'symbol': 1, 'instead': 1, 'often': 1, 'adjacent': 1, 'on': 5, 'keyboards': 1, 'may': 1, 'permanently': 1, 'delete': 1, 'you': 5, 'needing': 1, 'read': 1, 'terms': 1, 'legibility': 1, 'commands': 2, 'starting': 1, 'connected': 1, 'pipes': 1, 'has': 4, 'clear': 1, 'left': 1, 'right': 1, 'flow': 1, 'information': 1, 'command': 3, 'basic': 1, 'learned': 1, 'when': 2, 'started': 1, 'unix': 1, 'linux': 1, 'world': 1, 'using': 3, 'lines': 1, 'received': 1, 'from': 1, 'stdin': 2, 'new': 2, 'symbols': 1, 'type': 1, 'without': 1, 'any': 1, 'arguments': 1, 'receives': 1, 'displays': 1, 'stdout': 1, 'leopard': 4, 'was': 2, 'released': 3, 'october': 1, 'successor': 1, 'tiger': 3, 'version': 1, 'available': 1, 'two': 1, 'editions': 1, 'according': 1, 'apple': 8, 'contains': 2, 'over': 2, 'enhancements': 1, 'predecessor': 1, 'mac': 6, 'os': 8, 'x': 9, 'mid': 1, 'some': 1, 'computers': 3, 'firmware': 1, 'factory': 1, 'installed': 2, 'which': 1, 'no': 1, 'longer': 1, 'allow': 1, 'installation': 2, 'since': 1, 'moved': 1, 'intel': 1, 'processors': 1, 'their': 1, 'osx': 1, 'community': 1, 'developed': 1, 'now': 1, 'allows': 1, 'later': 1, 'releases': 1, 'non': 1, 'based': 1, 'mountain': 5, 'lion': 4, 'july': 1, 'purchase': 1, 'download': 1, 'through': 1, 's': 2, 'app': 1, 'store': 1, 'part': 1, 'switch': 1, 'releasing': 2, 'versions': 2, 'online': 1, 'every': 1, 'year': 1, 'patch': 1, 'three': 1, 'most': 1, 'recent': 1, 'safari': 1, 'running': 1, 'yosemite': 1, 'mavericks': 1, 'release': 1, 'marks': 1, 'second': 1, 'time': 1, 'offered': 1, 'an': 2, 'incremental': 1, 'upgrade': 1, 'rather': 1, 'than': 2, 'entirely': 1, 'installs': 1, 'place': 1, 'so': 1, 'won': 1, 't': 1, 'need': 1, 'create': 1, 'separate': 1, 'disk': 1, 'run': 1, 'off': 1, 'external': 1, 'drive': 1, 'fifth': 1, 'update': 1, 'features': 1, 'more': 1, 'count': 1}\n"
     ]
    }
   ],
   "source": [
    "import re\n",
    "dict_words = {}\n",
    "lines_list = []\n",
    "with open('sentences.txt') as f:\n",
    "    for line in f:\n",
    "        line = line.strip().lower()\n",
    "        line = re.split('[^a-z]', line)\n",
    "        line = [x for x in line if x]\n",
    "        lines_list.append(line)\n",
    "        for word in line:\n",
    "            if word in dict_words:\n",
    "                dict_words[word] += 1\n",
    "            else:\n",
    "                dict_words[word] = 1\n",
    "            #dict_words.setdefault(word, 0)\n",
    "print (dict_words)"
   ]
  },
  {
   "cell_type": "code",
   "execution_count": 10,
   "metadata": {},
   "outputs": [
    {
     "data": {
      "text/plain": [
       "254"
      ]
     },
     "execution_count": 10,
     "metadata": {},
     "output_type": "execute_result"
    }
   ],
   "source": [
    "len(dict_words)"
   ]
  },
  {
   "cell_type": "code",
   "execution_count": 32,
   "metadata": {},
   "outputs": [
    {
     "data": {
      "text/plain": [
       "[['in',\n",
       "  'comparison',\n",
       "  'to',\n",
       "  'dogs',\n",
       "  'cats',\n",
       "  'have',\n",
       "  'not',\n",
       "  'undergone',\n",
       "  'major',\n",
       "  'changes',\n",
       "  'during',\n",
       "  'the',\n",
       "  'domestication',\n",
       "  'process'],\n",
       " ['as',\n",
       "  'cat',\n",
       "  'simply',\n",
       "  'catenates',\n",
       "  'streams',\n",
       "  'of',\n",
       "  'bytes',\n",
       "  'it',\n",
       "  'can',\n",
       "  'be',\n",
       "  'also',\n",
       "  'used',\n",
       "  'to',\n",
       "  'concatenate',\n",
       "  'binary',\n",
       "  'files',\n",
       "  'where',\n",
       "  'it',\n",
       "  'will',\n",
       "  'just',\n",
       "  'concatenate',\n",
       "  'sequence',\n",
       "  'of',\n",
       "  'bytes'],\n",
       " ['a',\n",
       "  'common',\n",
       "  'interactive',\n",
       "  'use',\n",
       "  'of',\n",
       "  'cat',\n",
       "  'for',\n",
       "  'a',\n",
       "  'single',\n",
       "  'file',\n",
       "  'is',\n",
       "  'to',\n",
       "  'output',\n",
       "  'the',\n",
       "  'content',\n",
       "  'of',\n",
       "  'a',\n",
       "  'file',\n",
       "  'to',\n",
       "  'standard',\n",
       "  'output'],\n",
       " ['cats',\n",
       "  'can',\n",
       "  'hear',\n",
       "  'sounds',\n",
       "  'too',\n",
       "  'faint',\n",
       "  'or',\n",
       "  'too',\n",
       "  'high',\n",
       "  'in',\n",
       "  'frequency',\n",
       "  'for',\n",
       "  'human',\n",
       "  'ears',\n",
       "  'such',\n",
       "  'as',\n",
       "  'those',\n",
       "  'made',\n",
       "  'by',\n",
       "  'mice',\n",
       "  'and',\n",
       "  'other',\n",
       "  'small',\n",
       "  'animals'],\n",
       " ['in',\n",
       "  'one',\n",
       "  'people',\n",
       "  'deliberately',\n",
       "  'tamed',\n",
       "  'cats',\n",
       "  'in',\n",
       "  'a',\n",
       "  'process',\n",
       "  'of',\n",
       "  'artificial',\n",
       "  'selection',\n",
       "  'as',\n",
       "  'they',\n",
       "  'were',\n",
       "  'useful',\n",
       "  'predators',\n",
       "  'of',\n",
       "  'vermin'],\n",
       " ['the',\n",
       "  'domesticated',\n",
       "  'cat',\n",
       "  'and',\n",
       "  'its',\n",
       "  'closest',\n",
       "  'wild',\n",
       "  'ancestor',\n",
       "  'are',\n",
       "  'both',\n",
       "  'diploid',\n",
       "  'organisms',\n",
       "  'that',\n",
       "  'possess',\n",
       "  'chromosomes',\n",
       "  'and',\n",
       "  'roughly',\n",
       "  'genes'],\n",
       " ['domestic',\n",
       "  'cats',\n",
       "  'are',\n",
       "  'similar',\n",
       "  'in',\n",
       "  'size',\n",
       "  'to',\n",
       "  'the',\n",
       "  'other',\n",
       "  'members',\n",
       "  'of',\n",
       "  'the',\n",
       "  'genus',\n",
       "  'felis',\n",
       "  'typically',\n",
       "  'weighing',\n",
       "  'between',\n",
       "  'and',\n",
       "  'kg',\n",
       "  'and',\n",
       "  'lb'],\n",
       " ['however',\n",
       "  'if',\n",
       "  'the',\n",
       "  'output',\n",
       "  'is',\n",
       "  'piped',\n",
       "  'or',\n",
       "  'redirected',\n",
       "  'cat',\n",
       "  'is',\n",
       "  'unnecessary'],\n",
       " ['cat',\n",
       "  'with',\n",
       "  'one',\n",
       "  'named',\n",
       "  'file',\n",
       "  'is',\n",
       "  'safer',\n",
       "  'where',\n",
       "  'human',\n",
       "  'error',\n",
       "  'is',\n",
       "  'a',\n",
       "  'concern',\n",
       "  'one',\n",
       "  'wrong',\n",
       "  'use',\n",
       "  'of',\n",
       "  'the',\n",
       "  'default',\n",
       "  'redirection',\n",
       "  'symbol',\n",
       "  'instead',\n",
       "  'of',\n",
       "  'often',\n",
       "  'adjacent',\n",
       "  'on',\n",
       "  'keyboards',\n",
       "  'may',\n",
       "  'permanently',\n",
       "  'delete',\n",
       "  'the',\n",
       "  'file',\n",
       "  'you',\n",
       "  'were',\n",
       "  'just',\n",
       "  'needing',\n",
       "  'to',\n",
       "  'read'],\n",
       " ['in',\n",
       "  'terms',\n",
       "  'of',\n",
       "  'legibility',\n",
       "  'a',\n",
       "  'sequence',\n",
       "  'of',\n",
       "  'commands',\n",
       "  'starting',\n",
       "  'with',\n",
       "  'cat',\n",
       "  'and',\n",
       "  'connected',\n",
       "  'by',\n",
       "  'pipes',\n",
       "  'has',\n",
       "  'a',\n",
       "  'clear',\n",
       "  'left',\n",
       "  'to',\n",
       "  'right',\n",
       "  'flow',\n",
       "  'of',\n",
       "  'information'],\n",
       " ['cat',\n",
       "  'command',\n",
       "  'is',\n",
       "  'one',\n",
       "  'of',\n",
       "  'the',\n",
       "  'basic',\n",
       "  'commands',\n",
       "  'that',\n",
       "  'you',\n",
       "  'learned',\n",
       "  'when',\n",
       "  'you',\n",
       "  'started',\n",
       "  'in',\n",
       "  'the',\n",
       "  'unix',\n",
       "  'linux',\n",
       "  'world'],\n",
       " ['using',\n",
       "  'cat',\n",
       "  'command',\n",
       "  'the',\n",
       "  'lines',\n",
       "  'received',\n",
       "  'from',\n",
       "  'stdin',\n",
       "  'can',\n",
       "  'be',\n",
       "  'redirected',\n",
       "  'to',\n",
       "  'a',\n",
       "  'new',\n",
       "  'file',\n",
       "  'using',\n",
       "  'redirection',\n",
       "  'symbols'],\n",
       " ['when',\n",
       "  'you',\n",
       "  'type',\n",
       "  'simply',\n",
       "  'cat',\n",
       "  'command',\n",
       "  'without',\n",
       "  'any',\n",
       "  'arguments',\n",
       "  'it',\n",
       "  'just',\n",
       "  'receives',\n",
       "  'the',\n",
       "  'stdin',\n",
       "  'content',\n",
       "  'and',\n",
       "  'displays',\n",
       "  'it',\n",
       "  'in',\n",
       "  'the',\n",
       "  'stdout'],\n",
       " ['leopard',\n",
       "  'was',\n",
       "  'released',\n",
       "  'on',\n",
       "  'october',\n",
       "  'as',\n",
       "  'the',\n",
       "  'successor',\n",
       "  'of',\n",
       "  'tiger',\n",
       "  'version',\n",
       "  'and',\n",
       "  'is',\n",
       "  'available',\n",
       "  'in',\n",
       "  'two',\n",
       "  'editions'],\n",
       " ['according',\n",
       "  'to',\n",
       "  'apple',\n",
       "  'leopard',\n",
       "  'contains',\n",
       "  'over',\n",
       "  'changes',\n",
       "  'and',\n",
       "  'enhancements',\n",
       "  'over',\n",
       "  'its',\n",
       "  'predecessor',\n",
       "  'mac',\n",
       "  'os',\n",
       "  'x',\n",
       "  'tiger'],\n",
       " ['as',\n",
       "  'of',\n",
       "  'mid',\n",
       "  'some',\n",
       "  'apple',\n",
       "  'computers',\n",
       "  'have',\n",
       "  'firmware',\n",
       "  'factory',\n",
       "  'installed',\n",
       "  'which',\n",
       "  'will',\n",
       "  'no',\n",
       "  'longer',\n",
       "  'allow',\n",
       "  'installation',\n",
       "  'of',\n",
       "  'mac',\n",
       "  'os',\n",
       "  'x',\n",
       "  'leopard'],\n",
       " ['since',\n",
       "  'apple',\n",
       "  'moved',\n",
       "  'to',\n",
       "  'using',\n",
       "  'intel',\n",
       "  'processors',\n",
       "  'in',\n",
       "  'their',\n",
       "  'computers',\n",
       "  'the',\n",
       "  'osx',\n",
       "  'community',\n",
       "  'has',\n",
       "  'developed',\n",
       "  'and',\n",
       "  'now',\n",
       "  'also',\n",
       "  'allows',\n",
       "  'mac',\n",
       "  'os',\n",
       "  'x',\n",
       "  'tiger',\n",
       "  'and',\n",
       "  'later',\n",
       "  'releases',\n",
       "  'to',\n",
       "  'be',\n",
       "  'installed',\n",
       "  'on',\n",
       "  'non',\n",
       "  'apple',\n",
       "  'x',\n",
       "  'based',\n",
       "  'computers'],\n",
       " ['os',\n",
       "  'x',\n",
       "  'mountain',\n",
       "  'lion',\n",
       "  'was',\n",
       "  'released',\n",
       "  'on',\n",
       "  'july',\n",
       "  'for',\n",
       "  'purchase',\n",
       "  'and',\n",
       "  'download',\n",
       "  'through',\n",
       "  'apple',\n",
       "  's',\n",
       "  'mac',\n",
       "  'app',\n",
       "  'store',\n",
       "  'as',\n",
       "  'part',\n",
       "  'of',\n",
       "  'a',\n",
       "  'switch',\n",
       "  'to',\n",
       "  'releasing',\n",
       "  'os',\n",
       "  'x',\n",
       "  'versions',\n",
       "  'online',\n",
       "  'and',\n",
       "  'every',\n",
       "  'year'],\n",
       " ['apple',\n",
       "  'has',\n",
       "  'released',\n",
       "  'a',\n",
       "  'small',\n",
       "  'patch',\n",
       "  'for',\n",
       "  'the',\n",
       "  'three',\n",
       "  'most',\n",
       "  'recent',\n",
       "  'versions',\n",
       "  'of',\n",
       "  'safari',\n",
       "  'running',\n",
       "  'on',\n",
       "  'os',\n",
       "  'x',\n",
       "  'yosemite',\n",
       "  'mavericks',\n",
       "  'and',\n",
       "  'mountain',\n",
       "  'lion'],\n",
       " ['the',\n",
       "  'mountain',\n",
       "  'lion',\n",
       "  'release',\n",
       "  'marks',\n",
       "  'the',\n",
       "  'second',\n",
       "  'time',\n",
       "  'apple',\n",
       "  'has',\n",
       "  'offered',\n",
       "  'an',\n",
       "  'incremental',\n",
       "  'upgrade',\n",
       "  'rather',\n",
       "  'than',\n",
       "  'releasing',\n",
       "  'a',\n",
       "  'new',\n",
       "  'cat',\n",
       "  'entirely'],\n",
       " ['mac',\n",
       "  'os',\n",
       "  'x',\n",
       "  'mountain',\n",
       "  'lion',\n",
       "  'installs',\n",
       "  'in',\n",
       "  'place',\n",
       "  'so',\n",
       "  'you',\n",
       "  'won',\n",
       "  't',\n",
       "  'need',\n",
       "  'to',\n",
       "  'create',\n",
       "  'a',\n",
       "  'separate',\n",
       "  'disk',\n",
       "  'or',\n",
       "  'run',\n",
       "  'the',\n",
       "  'installation',\n",
       "  'off',\n",
       "  'an',\n",
       "  'external',\n",
       "  'drive'],\n",
       " ['the',\n",
       "  'fifth',\n",
       "  'major',\n",
       "  'update',\n",
       "  'to',\n",
       "  'mac',\n",
       "  'os',\n",
       "  'x',\n",
       "  'leopard',\n",
       "  'contains',\n",
       "  'such',\n",
       "  'a',\n",
       "  'mountain',\n",
       "  'of',\n",
       "  'features',\n",
       "  'more',\n",
       "  'than',\n",
       "  'by',\n",
       "  'apple',\n",
       "  's',\n",
       "  'count']]"
      ]
     },
     "execution_count": 32,
     "metadata": {},
     "output_type": "execute_result"
    }
   ],
   "source": [
    "lines_list"
   ]
  },
  {
   "cell_type": "code",
   "execution_count": null,
   "metadata": {},
   "outputs": [],
   "source": []
  },
  {
   "cell_type": "code",
   "execution_count": 52,
   "metadata": {},
   "outputs": [],
   "source": [
    "import numpy as np\n",
    "stat_matrix = []\n",
    "for line in lines_list:\n",
    "    for word in dict_words:\n",
    "        stat_matrix.append(line.count(word))\n",
    "matrix = np.array(stat_matrix).reshape(22,254)"
   ]
  },
  {
   "cell_type": "code",
   "execution_count": 53,
   "metadata": {},
   "outputs": [
    {
     "data": {
      "text/plain": [
       "(22, 254)"
      ]
     },
     "execution_count": 53,
     "metadata": {},
     "output_type": "execute_result"
    }
   ],
   "source": [
    "matrix.shape"
   ]
  },
  {
   "cell_type": "code",
   "execution_count": 55,
   "metadata": {},
   "outputs": [
    {
     "data": {
      "text/plain": [
       "254"
      ]
     },
     "execution_count": 55,
     "metadata": {},
     "output_type": "execute_result"
    }
   ],
   "source": [
    "len(matrix[0])"
   ]
  },
  {
   "cell_type": "code",
   "execution_count": 75,
   "metadata": {},
   "outputs": [
    {
     "data": {
      "text/plain": [
       "array([[1, 1, 1, ..., 0, 0, 0],\n",
       "       [0, 0, 1, ..., 0, 0, 0],\n",
       "       [0, 0, 2, ..., 0, 0, 0],\n",
       "       ...,\n",
       "       [0, 0, 0, ..., 0, 0, 0],\n",
       "       [1, 0, 1, ..., 0, 0, 0],\n",
       "       [0, 0, 1, ..., 1, 1, 1]])"
      ]
     },
     "execution_count": 75,
     "metadata": {},
     "output_type": "execute_result"
    }
   ],
   "source": [
    "matrix"
   ]
  },
  {
   "cell_type": "markdown",
   "metadata": {},
   "source": []
  },
  {
   "cell_type": "code",
   "execution_count": 80,
   "metadata": {},
   "outputs": [
    {
     "data": {
      "text/plain": [
       "[0.0,\n",
       " 0.9527544408738466,\n",
       " 0.8644738145642124,\n",
       " 0.8951715163278082,\n",
       " 0.7770887149698589,\n",
       " 0.9402385695332803,\n",
       " 0.7327387580875756,\n",
       " 0.9258750683338899,\n",
       " 0.8842724875284311,\n",
       " 0.9055088817476932,\n",
       " 0.8328165362273942,\n",
       " 0.8804771390665607,\n",
       " 0.8396432548525454,\n",
       " 0.8703592552895671,\n",
       " 0.8740118423302576,\n",
       " 0.9442721787424647,\n",
       " 0.8406361854220809,\n",
       " 0.956644501523794,\n",
       " 0.9442721787424647,\n",
       " 0.8885443574849294,\n",
       " 0.8427572744917122,\n",
       " 0.8250364469440588]"
      ]
     },
     "execution_count": 80,
     "metadata": {},
     "output_type": "execute_result"
    }
   ],
   "source": [
    "from scipy.spatial import distance\n",
    "cos_dict = [distance.cosine(matrix[0], matrix[X]) for X in range(0, 22)]\n",
    "cos_dict"
   ]
  },
  {
   "cell_type": "code",
   "execution_count": 81,
   "metadata": {},
   "outputs": [],
   "source": [
    "import pandas as pd"
   ]
  },
  {
   "cell_type": "code",
   "execution_count": 82,
   "metadata": {},
   "outputs": [],
   "source": [
    "cos_table = pd.DataFrame(cos_dict)"
   ]
  },
  {
   "cell_type": "code",
   "execution_count": 83,
   "metadata": {},
   "outputs": [
    {
     "data": {
      "text/html": [
       "<div>\n",
       "<style scoped>\n",
       "    .dataframe tbody tr th:only-of-type {\n",
       "        vertical-align: middle;\n",
       "    }\n",
       "\n",
       "    .dataframe tbody tr th {\n",
       "        vertical-align: top;\n",
       "    }\n",
       "\n",
       "    .dataframe thead th {\n",
       "        text-align: right;\n",
       "    }\n",
       "</style>\n",
       "<table border=\"1\" class=\"dataframe\">\n",
       "  <thead>\n",
       "    <tr style=\"text-align: right;\">\n",
       "      <th></th>\n",
       "      <th>0</th>\n",
       "    </tr>\n",
       "  </thead>\n",
       "  <tbody>\n",
       "    <tr>\n",
       "      <th>0</th>\n",
       "      <td>0.000000</td>\n",
       "    </tr>\n",
       "    <tr>\n",
       "      <th>6</th>\n",
       "      <td>0.732739</td>\n",
       "    </tr>\n",
       "    <tr>\n",
       "      <th>4</th>\n",
       "      <td>0.777089</td>\n",
       "    </tr>\n",
       "    <tr>\n",
       "      <th>21</th>\n",
       "      <td>0.825036</td>\n",
       "    </tr>\n",
       "    <tr>\n",
       "      <th>10</th>\n",
       "      <td>0.832817</td>\n",
       "    </tr>\n",
       "    <tr>\n",
       "      <th>12</th>\n",
       "      <td>0.839643</td>\n",
       "    </tr>\n",
       "    <tr>\n",
       "      <th>16</th>\n",
       "      <td>0.840636</td>\n",
       "    </tr>\n",
       "    <tr>\n",
       "      <th>20</th>\n",
       "      <td>0.842757</td>\n",
       "    </tr>\n",
       "    <tr>\n",
       "      <th>2</th>\n",
       "      <td>0.864474</td>\n",
       "    </tr>\n",
       "    <tr>\n",
       "      <th>13</th>\n",
       "      <td>0.870359</td>\n",
       "    </tr>\n",
       "    <tr>\n",
       "      <th>14</th>\n",
       "      <td>0.874012</td>\n",
       "    </tr>\n",
       "    <tr>\n",
       "      <th>11</th>\n",
       "      <td>0.880477</td>\n",
       "    </tr>\n",
       "    <tr>\n",
       "      <th>8</th>\n",
       "      <td>0.884272</td>\n",
       "    </tr>\n",
       "    <tr>\n",
       "      <th>19</th>\n",
       "      <td>0.888544</td>\n",
       "    </tr>\n",
       "    <tr>\n",
       "      <th>3</th>\n",
       "      <td>0.895172</td>\n",
       "    </tr>\n",
       "    <tr>\n",
       "      <th>9</th>\n",
       "      <td>0.905509</td>\n",
       "    </tr>\n",
       "    <tr>\n",
       "      <th>7</th>\n",
       "      <td>0.925875</td>\n",
       "    </tr>\n",
       "    <tr>\n",
       "      <th>5</th>\n",
       "      <td>0.940239</td>\n",
       "    </tr>\n",
       "    <tr>\n",
       "      <th>15</th>\n",
       "      <td>0.944272</td>\n",
       "    </tr>\n",
       "    <tr>\n",
       "      <th>18</th>\n",
       "      <td>0.944272</td>\n",
       "    </tr>\n",
       "    <tr>\n",
       "      <th>1</th>\n",
       "      <td>0.952754</td>\n",
       "    </tr>\n",
       "    <tr>\n",
       "      <th>17</th>\n",
       "      <td>0.956645</td>\n",
       "    </tr>\n",
       "  </tbody>\n",
       "</table>\n",
       "</div>"
      ],
      "text/plain": [
       "           0\n",
       "0   0.000000\n",
       "6   0.732739\n",
       "4   0.777089\n",
       "21  0.825036\n",
       "10  0.832817\n",
       "12  0.839643\n",
       "16  0.840636\n",
       "20  0.842757\n",
       "2   0.864474\n",
       "13  0.870359\n",
       "14  0.874012\n",
       "11  0.880477\n",
       "8   0.884272\n",
       "19  0.888544\n",
       "3   0.895172\n",
       "9   0.905509\n",
       "7   0.925875\n",
       "5   0.940239\n",
       "15  0.944272\n",
       "18  0.944272\n",
       "1   0.952754\n",
       "17  0.956645"
      ]
     },
     "execution_count": 83,
     "metadata": {},
     "output_type": "execute_result"
    }
   ],
   "source": [
    "cos_table.sort_values(0)"
   ]
  },
  {
   "cell_type": "markdown",
   "metadata": {},
   "source": [
    "# Задача 2: аппроксимация функции"
   ]
  },
  {
   "cell_type": "markdown",
   "metadata": {},
   "source": [
    "Рассмотрим сложную математическую функцию на отрезке [1, 15]:\n",
    "\n",
    "f(x) = sin(x / 5) * exp(x / 10) + 5 * exp(-x / 2)"
   ]
  },
  {
   "cell_type": "markdown",
   "metadata": {},
   "source": [
    "Она может описывать, например, зависимость оценок, которые выставляют определенному сорту вина эксперты, в зависимости от возраста этого вина. По сути, задача машинного обучения состоит в том, чтобы приблизить сложную зависимость с помощью функции из определенного семейства. В этом задании мы будем приближать указанную функцию с помощью многочленов."
   ]
  },
  {
   "cell_type": "markdown",
   "metadata": {},
   "source": [
    "Как известно, многочлен степени n (то есть w_0 + w_1 x + w_2 x^2 + ... + w_n x^n) однозначно определяется любыми n + 1 различными точками, через которые он проходит. Это значит, что его коэффициенты w_0, ... w_n можно определить из следующей системы линейных уравнений:"
   ]
  },
  {
   "cell_type": "markdown",
   "metadata": {},
   "source": [
    "где через x_1, ..., x_n, x_{n+1} обозначены точки, через которые проходит многочлен, а через f(x_1), ..., f(x_n), f(x_{n+1}) — значения, которые он должен принимать в этих точках."
   ]
  },
  {
   "cell_type": "markdown",
   "metadata": {},
   "source": [
    "Воспользуемся описанным свойством, и будем находить приближение функции многочленом, решая систему линейных уравнений."
   ]
  },
  {
   "cell_type": "markdown",
   "metadata": {},
   "source": [
    "    1. Сформируйте систему линейных уравнений (то есть задайте матрицу коэффициентов A и свободный вектор b) для многочлена первой степени, который должен совпадать с функцией f в точках 1 и 15. Решите данную систему с помощью функции scipy.linalg.solve. Нарисуйте функцию f и полученный многочлен. Хорошо ли он приближает исходную функцию?"
   ]
  },
  {
   "cell_type": "code",
   "execution_count": 85,
   "metadata": {},
   "outputs": [],
   "source": [
    "import numpy as np\n",
    "def f(X):\n",
    "    res = []\n",
    "    for x in X:\n",
    "        res.append(np.sin(x/5.) * np.exp(x/10.) + 5 * np.exp(-x/2.))\n",
    "    return res\n",
    "# вроде и без res при передаче массива вернет массив значений"
   ]
  },
  {
   "cell_type": "code",
   "execution_count": 97,
   "metadata": {},
   "outputs": [],
   "source": [
    "X = [1, 15]\n",
    "Y = f(X)"
   ]
  },
  {
   "cell_type": "code",
   "execution_count": 91,
   "metadata": {},
   "outputs": [],
   "source": [
    "def coef_matr(X, deg):\n",
    "    \"\"\"\n",
    "    This function create coefficient matrix\n",
    "    \"\"\"\n",
    "    A = []\n",
    "    for x in X:\n",
    "        for d in range(deg+1):\n",
    "            A.append(x ** d)\n",
    "    A = np.array(A).reshape((len(X), deg+1))\n",
    "    return A"
   ]
  },
  {
   "cell_type": "code",
   "execution_count": 96,
   "metadata": {},
   "outputs": [
    {
     "data": {
      "text/plain": [
       "array([[ 1,  1],\n",
       "       [ 1, 15]])"
      ]
     },
     "execution_count": 96,
     "metadata": {},
     "output_type": "execute_result"
    }
   ],
   "source": [
    "K = coef_matr(X, 1)\n",
    "K"
   ]
  },
  {
   "cell_type": "code",
   "execution_count": 99,
   "metadata": {},
   "outputs": [
    {
     "data": {
      "text/plain": [
       "array([ 3.43914511, -0.18692825])"
      ]
     },
     "execution_count": 99,
     "metadata": {},
     "output_type": "execute_result"
    }
   ],
   "source": [
    "# Найдем w0,w1,..- решим систему уравнение\n",
    "W = np.linalg.solve(K, Y)\n",
    "W"
   ]
  },
  {
   "cell_type": "code",
   "execution_count": 101,
   "metadata": {},
   "outputs": [
    {
     "data": {
      "image/png": "[encoded data removed]",
      "text/plain": [
       "<Figure size 432x288 with 1 Axes>"
      ]
     },
     "metadata": {
      "needs_background": "light"
     },
     "output_type": "display_data"
    }
   ],
   "source": [
    "# Нарисуем графики\n",
    "%matplotlib inline\n",
    "from matplotlib import pylab as plt\n",
    "x = np.arange(1, 15, 0.1)\n",
    "y = f(x)\n",
    "plt.plot(x, y)\n",
    "plt.show()"
   ]
  },
  {
   "cell_type": "code",
   "execution_count": 109,
   "metadata": {},
   "outputs": [
    {
     "data": {
      "text/plain": [
       "[3.2522168652714187, 0.6352214195786656]"
      ]
     },
     "execution_count": 109,
     "metadata": {},
     "output_type": "execute_result"
    }
   ],
   "source": [
    "# вычислим значения многочленов с полученными коэф-тами по отрезку [1,15]\n",
    "P = [W.dot(x) for x in K]\n",
    "P"
   ]
  },
  {
   "cell_type": "code",
   "execution_count": 111,
   "metadata": {},
   "outputs": [
    {
     "data": {
      "image/png": "[encoded data removed]",
      "text/plain": [
       "<Figure size 432x288 with 1 Axes>"
      ]
     },
     "metadata": {
      "needs_background": "light"
     },
     "output_type": "display_data"
    }
   ],
   "source": [
    "# нарисуем полученный многочлен\n",
    "from scipy import interpolate\n",
    "func_inter = interpolate.interp1d(X, P, kind='linear')\n",
    "xnew = np.arange(1, 15, 0.1)\n",
    "ynew = func_inter(xnew)\n",
    "\n",
    "plt.plot(X, P, 'o', xnew, ynew, '-')\n",
    "plt.show()"
   ]
  },
  {
   "cell_type": "code",
   "execution_count": 112,
   "metadata": {},
   "outputs": [
    {
     "data": {
      "image/png": "[encoded data removed]",
      "text/plain": [
       "<Figure size 432x288 with 1 Axes>"
      ]
     },
     "metadata": {
      "needs_background": "light"
     },
     "output_type": "display_data"
    }
   ],
   "source": [
    "# для многочлена второй степени\n",
    "X = [1, 8, 15]\n",
    "Y = f(X)\n",
    "K = coef_matr(X, 2)\n",
    "W = np.linalg.solve(K, Y)\n",
    "\n",
    "P = [W.dot(x) for x in K]\n",
    "\n",
    "func_inter = interpolate.interp1d(X, P, kind='quadratic')\n",
    "xnew = np.arange(1, 15, 0.1)\n",
    "ynew = func_inter(xnew)\n",
    "\n",
    "plt.plot(X, P, 'o', xnew, ynew, '-')\n",
    "plt.show()"
   ]
  },
  {
   "cell_type": "code",
   "execution_count": 113,
   "metadata": {},
   "outputs": [
    {
     "data": {
      "image/png": "[encoded data removed]",
      "text/plain": [
       "<Figure size 432x288 with 1 Axes>"
      ]
     },
     "metadata": {
      "needs_background": "light"
     },
     "output_type": "display_data"
    }
   ],
   "source": [
    "# для многочлена третьей степени\n",
    "X = [1,4, 8, 15]\n",
    "Y = f(X)\n",
    "K = coef_matr(X, 3)\n",
    "W = np.linalg.solve(K, Y)\n",
    "\n",
    "P = [W.dot(x) for x in K]\n",
    "\n",
    "func_inter = interpolate.interp1d(X, P, kind='cubic')\n",
    "xnew = np.arange(1, 15, 0.1)\n",
    "ynew = func_inter(xnew)\n",
    "\n",
    "plt.plot(X, P, 'o', xnew, ynew, '-')\n",
    "plt.show()"
   ]
  },
  {
   "cell_type": "code",
   "execution_count": 114,
   "metadata": {},
   "outputs": [
    {
     "data": {
      "text/plain": [
       "array([ 4.41187544, -1.3603505 ,  0.20974815, -0.00905622])"
      ]
     },
     "execution_count": 114,
     "metadata": {},
     "output_type": "execute_result"
    }
   ],
   "source": [
    "W"
   ]
  },
  {
   "cell_type": "code",
   "execution_count": null,
   "metadata": {},
   "outputs": [],
   "source": []
  }
 ],
 "metadata": {
  "kernelspec": {
   "display_name": "Python 3",
   "language": "python",
   "name": "python3"
  },
  "language_info": {
   "codemirror_mode": {
    "name": "ipython",
    "version": 3
   },
   "file_extension": ".py",
   "mimetype": "text/x-python",
   "name": "python",
   "nbconvert_exporter": "python",
   "pygments_lexer": "ipython3",
   "version": "3.7.6"
  }
 },
 "nbformat": 4,
 "nbformat_minor": 4
}
