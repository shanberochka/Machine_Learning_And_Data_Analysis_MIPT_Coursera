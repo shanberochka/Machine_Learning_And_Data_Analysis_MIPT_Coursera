{
 "cells": [
  {
   "cell_type": "markdown",
   "metadata": {},
   "source": [
    "# Задание по программированию: Оптимизация в Python: глобальная оптимизация и оптимизация негладкой функции"
   ]
  },
  {
   "cell_type": "markdown",
   "metadata": {},
   "source": [
    "Введение\n",
    "\n",
    "В этом задании вы научитесь решать задачи оптимизации с помощью библиотеки SciPy. Сначала вы решите задачу поиска минимума функции с помощью одного из градиентных методов оптимизации, затем увидите отличия в работе градиентного метода и одного из методов глобальной оптимизации, а в заключение – найдете глобальный минимум негладкой функции, т.е. функции, у которой не всегда определен градиент.\n",
    "\n",
    "Понимание задачи глобальной оптимизации и отличий градиентных методов, от методов, не использующих градиент, очень полезно в задачах анализа данных, в частности, для подбора параметров алгоритмов."
   ]
  },
  {
   "cell_type": "markdown",
   "metadata": {},
   "source": [
    "## Задача 1. Минимизация гладкой функции"
   ]
  },
  {
   "cell_type": "markdown",
   "metadata": {},
   "source": [
    "    1. Рассмотрим все ту же функцию из задания по линейной алгебре: f(x) = sin(x / 5) * exp(x / 10) + 5 * exp(-x / 2), но теперь уже на промежутке [1, 30]\n",
    "    2. В первом задании будем искать минимум этой функции на заданном промежутке с помощью scipy.optimize. Разумеется, в дальнейшем вы будете использовать методы оптимизации для более сложных функций, а f(x) мы рассмотрим как удобный учебный пример.\n",
    "    3. Напишите на Питоне функцию, вычисляющую значение f(x) по известному x. Будьте внимательны: не забывайте про то, что по умолчанию в питоне целые числа делятся нацело, и о том, что функции sin и exp нужно импортировать из модуля math.\n",
    "    4. Изучите примеры использования scipy.optimize.minimize в документации Scipy (см. \"Материалы\")\n",
    "    5. Попробуйте найти минимум, используя стандартные параметры в функции scipy.optimize.minimize (т.е. задав только функцию и начальное приближение). Попробуйте менять начальное приближение и изучить, меняется ли результат.\n",
    "    6. Укажите в scipy.optimize.minimize в качестве метода BFGS (один из самых точных в большинстве случаев градиентных методов оптимизации), запустите из начального приближения x=2. Градиент функции при этом указывать не нужно – он будет оценен численно. Полученное значение функции в точке минимума - ваш первый ответ по заданию 1, его надо записать с точностью до 2 знака после запятой.\n",
    "    7. Теперь измените начальное приближение на x=30. Значение функции в точке минимума - ваш второй ответ по заданию 1, его надо записать через пробел после первого, с точностью до 2 знака после запятой.\n",
    "    8. Стоит обдумать полученный результат. Почему ответ отличается в зависимости от начального приближения? Если нарисовать график функции (например, как это делалось в видео, где мы знакомились с Numpy, Scipy и Matplotlib), можно увидеть, в какие именно минимумы мы попали. В самом деле, градиентные методы обычно не решают задачу глобальной оптимизации, поэтому результаты работы ожидаемые и вполне корректные."
   ]
  },
  {
   "cell_type": "code",
   "execution_count": 12,
   "metadata": {},
   "outputs": [],
   "source": [
    "import numpy as np"
   ]
  },
  {
   "cell_type": "code",
   "execution_count": 13,
   "metadata": {},
   "outputs": [],
   "source": [
    "def f(x):\n",
    "    return np.sin(x/5.) * np.exp(x/10.) + 5 * np.exp(-x/2.)"
   ]
  },
  {
   "cell_type": "code",
   "execution_count": 14,
   "metadata": {},
   "outputs": [
    {
     "name": "stdout",
     "output_type": "stream",
     "text": [
      "      fun: 1.745268290332218\n",
      " hess_inv: array([[6.01541998]])\n",
      "      jac: array([-2.68220901e-07])\n",
      "  message: 'Optimization terminated successfully.'\n",
      "     nfev: 24\n",
      "      nit: 7\n",
      "     njev: 8\n",
      "   status: 0\n",
      "  success: True\n",
      "        x: array([4.13628697])\n"
     ]
    }
   ],
   "source": [
    "from scipy import optimize\n",
    "x_min = optimize.minimize(f, 1)\n",
    "print (x_min)"
   ]
  },
  {
   "cell_type": "code",
   "execution_count": 27,
   "metadata": {},
   "outputs": [
    {
     "name": "stdout",
     "output_type": "stream",
     "text": [
      "For start number:  1 \n",
      "       fun: 1.745268290332218\n",
      " hess_inv: array([[6.01541998]])\n",
      "      jac: array([-2.68220901e-07])\n",
      "  message: 'Optimization terminated successfully.'\n",
      "     nfev: 24\n",
      "      nit: 7\n",
      "     njev: 8\n",
      "   status: 0\n",
      "  success: True\n",
      "        x: array([4.13628697]) \n",
      "\n",
      "For start number:  4 \n",
      "       fun: 1.7452682904133416\n",
      " hess_inv: array([[5.93460225]])\n",
      "      jac: array([-5.1856041e-06])\n",
      "  message: 'Optimization terminated successfully.'\n",
      "     nfev: 15\n",
      "      nit: 4\n",
      "     njev: 5\n",
      "   status: 0\n",
      "  success: True\n",
      "        x: array([4.13625735]) \n",
      "\n",
      "For start number:  7 \n",
      "       fun: 1.745268290332021\n",
      " hess_inv: array([[6.01841416]])\n",
      "      jac: array([1.1920929e-07])\n",
      "  message: 'Optimization terminated successfully.'\n",
      "     nfev: 30\n",
      "      nit: 5\n",
      "     njev: 10\n",
      "   status: 0\n",
      "  success: True\n",
      "        x: array([4.13628946]) \n",
      "\n",
      "For start number:  10 \n",
      "       fun: 1.7452682903429801\n",
      " hess_inv: array([[6.04856306]])\n",
      "      jac: array([1.90734863e-06])\n",
      "  message: 'Optimization terminated successfully.'\n",
      "     nfev: 39\n",
      "      nit: 3\n",
      "     njev: 13\n",
      "   status: 0\n",
      "  success: True\n",
      "        x: array([4.13630023]) \n",
      "\n",
      "For start number:  13 \n",
      "       fun: -6371.765229165741\n",
      " hess_inv: array([[0.00310798]])\n",
      "      jac: array([0.])\n",
      "  message: 'Optimization terminated successfully.'\n",
      "     nfev: 75\n",
      "      nit: 4\n",
      "     njev: 25\n",
      "   status: 0\n",
      "  success: True\n",
      "        x: array([88.71203605]) \n",
      "\n",
      "For start number:  16 \n",
      "       fun: -11.898894665971541\n",
      " hess_inv: array([[9.34365273]])\n",
      "      jac: array([3.4570694e-06])\n",
      "  message: 'Optimization terminated successfully.'\n",
      "     nfev: 24\n",
      "      nit: 2\n",
      "     njev: 8\n",
      "   status: 0\n",
      "  success: True\n",
      "        x: array([25.88019877]) \n",
      "\n",
      "For start number:  19 \n",
      "       fun: -11.898894665898753\n",
      " hess_inv: array([[1.66903903]])\n",
      "      jac: array([-9.89437103e-06])\n",
      "  message: 'Optimization terminated successfully.'\n",
      "     nfev: 24\n",
      "      nit: 5\n",
      "     njev: 8\n",
      "   status: 0\n",
      "  success: True\n",
      "        x: array([25.88017637]) \n",
      "\n",
      "For start number:  22 \n",
      "       fun: -11.898894665980901\n",
      " hess_inv: array([[1.68422174]])\n",
      "      jac: array([5.96046448e-07])\n",
      "  message: 'Optimization terminated successfully.'\n",
      "     nfev: 21\n",
      "      nit: 6\n",
      "     njev: 7\n",
      "   status: 0\n",
      "  success: True\n",
      "        x: array([25.88019422]) \n",
      "\n",
      "For start number:  25 \n",
      "       fun: -11.89889466596626\n",
      " hess_inv: array([[1.67418754]])\n",
      "      jac: array([-4.29153442e-06])\n",
      "  message: 'Optimization terminated successfully.'\n",
      "     nfev: 15\n",
      "      nit: 4\n",
      "     njev: 5\n",
      "   status: 0\n",
      "  success: True\n",
      "        x: array([25.88018592]) \n",
      "\n",
      "For start number:  28 \n",
      "       fun: -11.898894665981295\n",
      " hess_inv: array([[1.67815641]])\n",
      "      jac: array([1.1920929e-07])\n",
      "  message: 'Optimization terminated successfully.'\n",
      "     nfev: 18\n",
      "      nit: 5\n",
      "     njev: 6\n",
      "   status: 0\n",
      "  success: True\n",
      "        x: array([25.88019333]) \n",
      "\n"
     ]
    }
   ],
   "source": [
    "for i in range (1, 30, 3):\n",
    "    x_min = optimize.minimize(f, i)\n",
    "    print('For start number: ', i, '\\n', x_min,'\\n')"
   ]
  },
  {
   "cell_type": "code",
   "execution_count": 29,
   "metadata": {},
   "outputs": [
    {
     "data": {
      "image/png": "[encoded data removed]",
      "text/plain": [
       "<Figure size 432x288 with 1 Axes>"
      ]
     },
     "metadata": {
      "needs_background": "light"
     },
     "output_type": "display_data"
    }
   ],
   "source": [
    "%matplotlib inline\n",
    "from matplotlib import pylab as plt\n",
    "x = np.arange(1, 15, 0.1)\n",
    "y = f(x)\n",
    "plt.plot(x, y)\n",
    "plt.show()"
   ]
  },
  {
   "cell_type": "code",
   "execution_count": 69,
   "metadata": {},
   "outputs": [
    {
     "data": {
      "image/png": "[encoded data removed]",
      "text/plain": [
       "<Figure size 432x288 with 1 Axes>"
      ]
     },
     "metadata": {
      "needs_background": "light"
     },
     "output_type": "display_data"
    }
   ],
   "source": [
    "x = np.arange(1, 30, 0.1)\n",
    "y = f(x)\n",
    "plt.plot(x, y)\n",
    "plt.show()"
   ]
  },
  {
   "cell_type": "code",
   "execution_count": 35,
   "metadata": {},
   "outputs": [
    {
     "name": "stdout",
     "output_type": "stream",
     "text": [
      "      fun: 1.7452682903447336\n",
      " hess_inv: array([[5.98752645]])\n",
      "      jac: array([-2.04145908e-06])\n",
      "  message: 'Optimization terminated successfully.'\n",
      "     nfev: 21\n",
      "      nit: 6\n",
      "     njev: 7\n",
      "   status: 0\n",
      "  success: True\n",
      "        x: array([4.13627628])\n"
     ]
    }
   ],
   "source": [
    "x_min = optimize.minimize(f, 2, method='BFGS')\n",
    "print (x_min)"
   ]
  },
  {
   "cell_type": "code",
   "execution_count": 36,
   "metadata": {},
   "outputs": [
    {
     "name": "stdout",
     "output_type": "stream",
     "text": [
      "      fun: -11.898894665981313\n",
      " hess_inv: array([[1.67936744]])\n",
      "      jac: array([0.])\n",
      "  message: 'Optimization terminated successfully.'\n",
      "     nfev: 21\n",
      "      nit: 6\n",
      "     njev: 7\n",
      "   status: 0\n",
      "  success: True\n",
      "        x: array([25.88019321])\n"
     ]
    }
   ],
   "source": [
    "x_min = optimize.minimize(f, 30, method='BFGS')\n",
    "print (x_min)"
   ]
  },
  {
   "cell_type": "markdown",
   "metadata": {},
   "source": [
    "## Задача 2. Глобальная оптимизация"
   ]
  },
  {
   "cell_type": "markdown",
   "metadata": {},
   "source": [
    "    1. Теперь попробуем применить к той же функции f(x) метод глобальной оптимизации — дифференциальную эволюцию.\n",
    "    2. Изучите документацию и примеры использования функции scipy.optimize.differential_evolution.\n",
    "    3. Обратите внимание, что границы значений аргументов функции представляют собой список кортежей (list, в который помещены объекты типа tuple). Даже если у вас функция одного аргумента, возьмите границы его значений в квадратные скобки, чтобы передавать в этом параметре список из одного кортежа, т.к. в реализации scipy.optimize.differential_evolution длина этого списка используется чтобы определить количество аргументов функции.\n",
    "    4. Запустите поиск минимума функции f(x) с помощью дифференциальной эволюции на промежутке [1, 30]. Полученное значение функции в точке минимума - ответ в задаче 2. Запишите его с точностью до второго знака после запятой. В этой задаче ответ - только одно число.\n",
    "    5. Заметьте, дифференциальная эволюция справилась с задачей поиска глобального минимума на отрезке, т.к. по своему устройству она предполагает борьбу с попаданием в локальные минимумы.\n",
    "    6. Сравните количество итераций, потребовавшихся BFGS для нахождения минимума при хорошем начальном приближении, с количеством итераций, потребовавшихся дифференциальной эволюции. При повторных запусках дифференциальной эволюции количество итераций будет меняться, но в этом примере, скорее всего, оно всегда будет сравнимым с количеством итераций BFGS. Однако в дифференциальной эволюции за одну итерацию требуется выполнить гораздо больше действий, чем в BFGS. Например, можно обратить внимание на количество вычислений значения функции (nfev) и увидеть, что у BFGS оно значительно меньше. Кроме того, время работы дифференциальной эволюции очень быстро растет с увеличением числа аргументов функции."
   ]
  },
  {
   "cell_type": "code",
   "execution_count": 42,
   "metadata": {},
   "outputs": [
    {
     "name": "stdout",
     "output_type": "stream",
     "text": [
      "     fun: array([-11.89889467])\n",
      "     jac: array([8.8817842e-07])\n",
      " message: 'Optimization terminated successfully.'\n",
      "    nfev: 81\n",
      "     nit: 4\n",
      " success: True\n",
      "       x: array([25.88019472])\n"
     ]
    }
   ],
   "source": [
    "bound = [(1, 30)]\n",
    "result = optimize.differential_evolution(f, bound)\n",
    "print (result)"
   ]
  },
  {
   "cell_type": "markdown",
   "metadata": {},
   "source": [
    "## Задача 3. Минимизация негладкой функции"
   ]
  },
  {
   "cell_type": "markdown",
   "metadata": {},
   "source": [
    "    1. Теперь рассмотрим функцию h(x) = int(f(x)) на том же отрезке [1, 30], т.е. теперь каждое значение f(x) приводится к типу int и функция принимает только целые значения.\n",
    "    2. Такая функция будет негладкой и даже разрывной, а ее график будет иметь ступенчатый вид. Убедитесь в этом, построив график h(x) с помощью matplotlib.\n",
    "    3. Попробуйте найти минимум функции h(x) с помощью BFGS, взяв в качестве начального приближения x=30. Получившееся значение функции – ваш первый ответ в этой задаче.\n",
    "    4. Теперь попробуйте найти минимум h(x) на отрезке [1, 30] с помощью дифференциальной эволюции. Значение функции h(x) в точке минимума – это ваш второй ответ в этом задании. Запишите его через пробел после предыдущего.\n",
    "    5. Обратите внимание на то, что полученные ответы различаются. Это ожидаемый результат, ведь BFGS использует градиент (в одномерном случае – производную) и явно не пригоден для минимизации рассмотренной нами разрывной функции. Попробуйте понять, почему минимум, найденный BFGS, именно такой (возможно в этом вам поможет выбор разных начальных приближений).\n",
    "    6. Выполнив это задание, вы увидели на практике, чем поиск минимума функции отличается от глобальной оптимизации, и когда может быть полезно применить вместо градиентного метода оптимизации метод, не использующий градиент. Кроме того, вы попрактиковались в использовании библиотеки SciPy для решения оптимизационных задач, и теперь знаете, насколько это просто и удобно."
   ]
  },
  {
   "cell_type": "code",
   "execution_count": 65,
   "metadata": {},
   "outputs": [],
   "source": [
    "# функцию h(x) = int(f(x)) на том же отрезке [1, 30],\n",
    "# т.е. теперь каждое значение f(x) приводится к типу int и функция принимает только целые значения\n",
    "def h(x):\n",
    "    return np.int_(f(x))"
   ]
  },
  {
   "cell_type": "code",
   "execution_count": 66,
   "metadata": {},
   "outputs": [
    {
     "data": {
      "image/png": "[encoded data removed]",
      "text/plain": [
       "<Figure size 432x288 with 1 Axes>"
      ]
     },
     "metadata": {
      "needs_background": "light"
     },
     "output_type": "display_data"
    }
   ],
   "source": [
    "%matplotlib inline\n",
    "from matplotlib import pylab as plt\n",
    "x = np.arange(1, 30, 0.1)\n",
    "y = h(x)\n",
    "plt.plot(x, y)\n",
    "plt.show()"
   ]
  },
  {
   "cell_type": "code",
   "execution_count": 71,
   "metadata": {},
   "outputs": [
    {
     "name": "stdout",
     "output_type": "stream",
     "text": [
      "      fun: array([-5])\n",
      " hess_inv: array([[1]])\n",
      "      jac: array([0.])\n",
      "  message: 'Optimization terminated successfully.'\n",
      "     nfev: 3\n",
      "      nit: 0\n",
      "     njev: 1\n",
      "   status: 0\n",
      "  success: True\n",
      "        x: array([30.])\n"
     ]
    }
   ],
   "source": [
    "# минимум функции h(x) с помощью BFGS\n",
    "x_min = optimize.minimize(h, 30, method='BFGS')\n",
    "print (x_min)"
   ]
  },
  {
   "cell_type": "code",
   "execution_count": 72,
   "metadata": {},
   "outputs": [
    {
     "name": "stdout",
     "output_type": "stream",
     "text": [
      "For start number:  1 \n",
      "       fun: array([3])\n",
      " hess_inv: array([[1]])\n",
      "      jac: array([0.])\n",
      "  message: 'Optimization terminated successfully.'\n",
      "     nfev: 3\n",
      "      nit: 0\n",
      "     njev: 1\n",
      "   status: 0\n",
      "  success: True\n",
      "        x: array([1.]) \n",
      "\n",
      "For start number:  4 \n",
      "       fun: array([1])\n",
      " hess_inv: array([[1]])\n",
      "      jac: array([0.])\n",
      "  message: 'Optimization terminated successfully.'\n",
      "     nfev: 3\n",
      "      nit: 0\n",
      "     njev: 1\n",
      "   status: 0\n",
      "  success: True\n",
      "        x: array([4.]) \n",
      "\n",
      "For start number:  7 \n",
      "       fun: array([2])\n",
      " hess_inv: array([[1]])\n",
      "      jac: array([0.])\n",
      "  message: 'Optimization terminated successfully.'\n",
      "     nfev: 3\n",
      "      nit: 0\n",
      "     njev: 1\n",
      "   status: 0\n",
      "  success: True\n",
      "        x: array([7.]) \n",
      "\n",
      "For start number:  10 \n",
      "       fun: array([2])\n",
      " hess_inv: array([[1]])\n",
      "      jac: array([0.])\n",
      "  message: 'Optimization terminated successfully.'\n",
      "     nfev: 3\n",
      "      nit: 0\n",
      "     njev: 1\n",
      "   status: 0\n",
      "  success: True\n",
      "        x: array([10.]) \n",
      "\n",
      "For start number:  13 \n",
      "       fun: array([1])\n",
      " hess_inv: array([[1]])\n",
      "      jac: array([0.])\n",
      "  message: 'Optimization terminated successfully.'\n",
      "     nfev: 3\n",
      "      nit: 0\n",
      "     njev: 1\n",
      "   status: 0\n",
      "  success: True\n",
      "        x: array([13.]) \n",
      "\n",
      "For start number:  16 \n",
      "       fun: array([0])\n",
      " hess_inv: array([[1]])\n",
      "      jac: array([0.])\n",
      "  message: 'Optimization terminated successfully.'\n",
      "     nfev: 3\n",
      "      nit: 0\n",
      "     njev: 1\n",
      "   status: 0\n",
      "  success: True\n",
      "        x: array([16.]) \n",
      "\n",
      "For start number:  19 \n",
      "       fun: array([-4])\n",
      " hess_inv: array([[1]])\n",
      "      jac: array([0.])\n",
      "  message: 'Optimization terminated successfully.'\n",
      "     nfev: 3\n",
      "      nit: 0\n",
      "     njev: 1\n",
      "   status: 0\n",
      "  success: True\n",
      "        x: array([19.]) \n",
      "\n",
      "For start number:  22 \n",
      "       fun: array([-8])\n",
      " hess_inv: array([[1]])\n",
      "      jac: array([0.])\n",
      "  message: 'Optimization terminated successfully.'\n",
      "     nfev: 3\n",
      "      nit: 0\n",
      "     njev: 1\n",
      "   status: 0\n",
      "  success: True\n",
      "        x: array([22.]) \n",
      "\n",
      "For start number:  25 \n",
      "       fun: array([-11])\n",
      " hess_inv: array([[1]])\n",
      "      jac: array([0.])\n",
      "  message: 'Optimization terminated successfully.'\n",
      "     nfev: 3\n",
      "      nit: 0\n",
      "     njev: 1\n",
      "   status: 0\n",
      "  success: True\n",
      "        x: array([25.]) \n",
      "\n",
      "For start number:  28 \n",
      "       fun: array([-10])\n",
      " hess_inv: array([[1]])\n",
      "      jac: array([0.])\n",
      "  message: 'Optimization terminated successfully.'\n",
      "     nfev: 3\n",
      "      nit: 0\n",
      "     njev: 1\n",
      "   status: 0\n",
      "  success: True\n",
      "        x: array([28.]) \n",
      "\n"
     ]
    }
   ],
   "source": [
    "for i in range (1, 30, 3):\n",
    "    x_min = optimize.minimize(h, i, method='BFGS' )\n",
    "    print('For start number: ', i, '\\n', x_min,'\\n')"
   ]
  },
  {
   "cell_type": "code",
   "execution_count": 73,
   "metadata": {},
   "outputs": [
    {
     "name": "stdout",
     "output_type": "stream",
     "text": [
      "     fun: -11.0\n",
      " message: 'Optimization terminated successfully.'\n",
      "    nfev: 62\n",
      "     nit: 3\n",
      " success: True\n",
      "       x: array([25.8608851])\n"
     ]
    }
   ],
   "source": [
    "# минимум h(x) на отрезке [1, 30] с помощью дифференциальной эволюции\n",
    "bound = [(1, 30)]\n",
    "result = optimize.differential_evolution(h, bound)\n",
    "print (result)"
   ]
  },
  {
   "cell_type": "code",
   "execution_count": 75,
   "metadata": {},
   "outputs": [
    {
     "name": "stdout",
     "output_type": "stream",
     "text": [
      "For start number:  1 \n",
      "  final_simplex: (array([[1.        ],\n",
      "       [1.00009766]]), array([3., 3.]))\n",
      "           fun: 3.0\n",
      "       message: 'Optimization terminated successfully.'\n",
      "          nfev: 29\n",
      "           nit: 10\n",
      "        status: 0\n",
      "       success: True\n",
      "             x: array([1.]) \n",
      "\n",
      "For start number:  4 \n",
      "  final_simplex: (array([[4.        ],\n",
      "       [4.00009766]]), array([1., 1.]))\n",
      "           fun: 1.0\n",
      "       message: 'Optimization terminated successfully.'\n",
      "          nfev: 35\n",
      "           nit: 12\n",
      "        status: 0\n",
      "       success: True\n",
      "             x: array([4.]) \n",
      "\n",
      "For start number:  7 \n",
      "  final_simplex: (array([[7.        ],\n",
      "       [7.00008545]]), array([2., 2.]))\n",
      "           fun: 2.0\n",
      "       message: 'Optimization terminated successfully.'\n",
      "          nfev: 38\n",
      "           nit: 13\n",
      "        status: 0\n",
      "       success: True\n",
      "             x: array([7.]) \n",
      "\n",
      "For start number:  10 \n",
      "  final_simplex: (array([[10.        ],\n",
      "       [10.00006104]]), array([2., 2.]))\n",
      "           fun: 2.0\n",
      "       message: 'Optimization terminated successfully.'\n",
      "          nfev: 41\n",
      "           nit: 14\n",
      "        status: 0\n",
      "       success: True\n",
      "             x: array([10.]) \n",
      "\n",
      "For start number:  13 \n",
      "  final_simplex: (array([[13.        ],\n",
      "       [13.00007935]]), array([1., 1.]))\n",
      "           fun: 1.0\n",
      "       message: 'Optimization terminated successfully.'\n",
      "          nfev: 41\n",
      "           nit: 14\n",
      "        status: 0\n",
      "       success: True\n",
      "             x: array([13.]) \n",
      "\n",
      "For start number:  16 \n",
      "  final_simplex: (array([[24.8       ],\n",
      "       [24.80009766]]), array([-11., -11.]))\n",
      "           fun: -11.0\n",
      "       message: 'Optimization terminated successfully.'\n",
      "          nfev: 52\n",
      "           nit: 19\n",
      "        status: 0\n",
      "       success: True\n",
      "             x: array([24.8]) \n",
      "\n",
      "For start number:  19 \n",
      "  final_simplex: (array([[25.65      ],\n",
      "       [25.64994202]]), array([-11., -11.]))\n",
      "           fun: -11.0\n",
      "       message: 'Optimization terminated successfully.'\n",
      "          nfev: 52\n",
      "           nit: 19\n",
      "        status: 0\n",
      "       success: True\n",
      "             x: array([25.65]) \n",
      "\n",
      "For start number:  22 \n",
      "  final_simplex: (array([[24.2       ],\n",
      "       [24.20006714]]), array([-11., -11.]))\n",
      "           fun: -11.0\n",
      "       message: 'Optimization terminated successfully.'\n",
      "          nfev: 45\n",
      "           nit: 16\n",
      "        status: 0\n",
      "       success: True\n",
      "             x: array([24.2]) \n",
      "\n",
      "For start number:  25 \n",
      "  final_simplex: (array([[25.        ],\n",
      "       [25.00007629]]), array([-11., -11.]))\n",
      "           fun: -11.0\n",
      "       message: 'Optimization terminated successfully.'\n",
      "          nfev: 44\n",
      "           nit: 15\n",
      "        status: 0\n",
      "       success: True\n",
      "             x: array([25.]) \n",
      "\n",
      "For start number:  28 \n",
      "  final_simplex: (array([[26.6       ],\n",
      "       [26.59991455]]), array([-11., -11.]))\n",
      "           fun: -11.0\n",
      "       message: 'Optimization terminated successfully.'\n",
      "          nfev: 45\n",
      "           nit: 16\n",
      "        status: 0\n",
      "       success: True\n",
      "             x: array([26.6]) \n",
      "\n"
     ]
    }
   ],
   "source": [
    "# минимум h(x) на отрезке [1, 30] с помощью метода Нелдера-Мида\n",
    "for i in range (1, 30, 3):\n",
    "    x_min = optimize.minimize(h, i, method='Nelder-Mead' )\n",
    "    print('For start number: ', i, '\\n', x_min,'\\n')"
   ]
  },
  {
   "cell_type": "code",
   "execution_count": 4,
   "metadata": {},
   "outputs": [
    {
     "data": {
      "text/plain": [
       "0.6597"
      ]
     },
     "execution_count": 4,
     "metadata": {},
     "output_type": "execute_result"
    }
   ],
   "source": [
    "0.49**2 + 0.38*(0.49 + 0.38)+ 0.1*(0.49+0.1)+0.03*(0.49+0.38+0.1+0.03)"
   ]
  },
  {
   "cell_type": "code",
   "execution_count": 2,
   "metadata": {},
   "outputs": [
    {
     "data": {
      "text/plain": [
       "0.12"
      ]
     },
     "execution_count": 2,
     "metadata": {},
     "output_type": "execute_result"
    }
   ],
   "source": [
    "0.6*0.1+0.4*0.15"
   ]
  },
  {
   "cell_type": "code",
   "execution_count": 3,
   "metadata": {},
   "outputs": [
    {
     "data": {
      "text/plain": [
       "0.5"
      ]
     },
     "execution_count": 3,
     "metadata": {},
     "output_type": "execute_result"
    }
   ],
   "source": [
    "0.1*0.6/0.12"
   ]
  },
  {
   "cell_type": "code",
   "execution_count": 5,
   "metadata": {},
   "outputs": [
    {
     "data": {
      "text/plain": [
       "0.2684354560000001"
      ]
     },
     "execution_count": 5,
     "metadata": {},
     "output_type": "execute_result"
    }
   ],
   "source": [
    "10* 0.2 * 0.8**9\n"
   ]
  },
  {
   "cell_type": "code",
   "execution_count": 6,
   "metadata": {},
   "outputs": [
    {
     "data": {
      "text/plain": [
       "0.10303999999999999"
      ]
     },
     "execution_count": 6,
     "metadata": {},
     "output_type": "execute_result"
    }
   ],
   "source": [
    "0.01*0.8+0.99*0.096"
   ]
  },
  {
   "cell_type": "code",
   "execution_count": null,
   "metadata": {},
   "outputs": [],
   "source": []
  }
 ],
 "metadata": {
  "kernelspec": {
   "display_name": "Python 3",
   "language": "python",
   "name": "python3"
  },
  "language_info": {
   "codemirror_mode": {
    "name": "ipython",
    "version": 3
   },
   "file_extension": ".py",
   "mimetype": "text/x-python",
   "name": "python",
   "nbconvert_exporter": "python",
   "pygments_lexer": "ipython3",
   "version": "3.7.6"
  }
 },
 "nbformat": 4,
 "nbformat_minor": 4
}
